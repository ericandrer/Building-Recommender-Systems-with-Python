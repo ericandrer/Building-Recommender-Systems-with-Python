{
 "cells": [
  {
   "cell_type": "code",
   "execution_count": 1,
   "metadata": {},
   "outputs": [
    {
     "name": "stdout",
     "output_type": "stream",
     "text": [
      "0          Eric\n",
      "1        George\n",
      "2       Lon.don\n",
      "3    Hola Mundo\n",
      "dtype: object\n"
     ]
    }
   ],
   "source": [
    "import pandas as pd\n",
    "import numpy as np\n",
    "\n",
    "s = pd.Series(['Eric','George','Lon.don','Hola Mundo'])\n",
    "\n",
    "print s"
   ]
  },
  {
   "cell_type": "code",
   "execution_count": null,
   "metadata": {},
   "outputs": [],
   "source": []
  },
  {
   "cell_type": "code",
   "execution_count": 2,
   "metadata": {},
   "outputs": [
    {
     "name": "stdout",
     "output_type": "stream",
     "text": [
      "0          eric\n",
      "1        george\n",
      "2       lon.don\n",
      "3    hola mundo\n",
      "dtype: object\n"
     ]
    }
   ],
   "source": [
    "print s.str.lower()"
   ]
  },
  {
   "cell_type": "code",
   "execution_count": 3,
   "metadata": {},
   "outputs": [
    {
     "name": "stdout",
     "output_type": "stream",
     "text": [
      "0          ERIC\n",
      "1        GEORGE\n",
      "2       LON.DON\n",
      "3    HOLA MUNDO\n",
      "dtype: object\n"
     ]
    }
   ],
   "source": [
    "print s.str.upper()"
   ]
  },
  {
   "cell_type": "code",
   "execution_count": 4,
   "metadata": {},
   "outputs": [
    {
     "name": "stdout",
     "output_type": "stream",
     "text": [
      "0     4\n",
      "1     6\n",
      "2     7\n",
      "3    10\n",
      "dtype: int64\n"
     ]
    }
   ],
   "source": [
    "print s.str.len()"
   ]
  },
  {
   "cell_type": "code",
   "execution_count": 5,
   "metadata": {},
   "outputs": [
    {
     "name": "stdout",
     "output_type": "stream",
     "text": [
      "0    False\n",
      "1    False\n",
      "2    False\n",
      "3     True\n",
      "dtype: bool\n"
     ]
    }
   ],
   "source": [
    "print s.str.contains(' ')"
   ]
  },
  {
   "cell_type": "code",
   "execution_count": 6,
   "metadata": {},
   "outputs": [
    {
     "name": "stdout",
     "output_type": "stream",
     "text": [
      "0    E\n",
      "1    G\n",
      "2    L\n",
      "3    H\n",
      "dtype: object\n"
     ]
    }
   ],
   "source": [
    "print s.str[0]"
   ]
  },
  {
   "cell_type": "code",
   "execution_count": 10,
   "metadata": {},
   "outputs": [
    {
     "name": "stdout",
     "output_type": "stream",
     "text": [
      "Eric-George-Lon.don-Hola Mundo\n"
     ]
    }
   ],
   "source": [
    "print s.str.cat(sep='-')"
   ]
  },
  {
   "cell_type": "code",
   "execution_count": 13,
   "metadata": {},
   "outputs": [
    {
     "data": {
      "text/html": [
       "<div>\n",
       "<style scoped>\n",
       "    .dataframe tbody tr th:only-of-type {\n",
       "        vertical-align: middle;\n",
       "    }\n",
       "\n",
       "    .dataframe tbody tr th {\n",
       "        vertical-align: top;\n",
       "    }\n",
       "\n",
       "    .dataframe thead th {\n",
       "        text-align: right;\n",
       "    }\n",
       "</style>\n",
       "<table border=\"1\" class=\"dataframe\">\n",
       "  <thead>\n",
       "    <tr style=\"text-align: right;\">\n",
       "      <th></th>\n",
       "      <th>0</th>\n",
       "      <th>1</th>\n",
       "      <th>2</th>\n",
       "      <th>3</th>\n",
       "      <th>4</th>\n",
       "      <th>5</th>\n",
       "      <th>6</th>\n",
       "      <th>7</th>\n",
       "      <th>8</th>\n",
       "      <th>9</th>\n",
       "      <th>...</th>\n",
       "      <th>36</th>\n",
       "      <th>37</th>\n",
       "      <th>38</th>\n",
       "      <th>39</th>\n",
       "      <th>40</th>\n",
       "      <th>41</th>\n",
       "      <th>42</th>\n",
       "      <th>43</th>\n",
       "      <th>44</th>\n",
       "      <th>45</th>\n",
       "    </tr>\n",
       "  </thead>\n",
       "  <tbody>\n",
       "    <tr>\n",
       "      <th>0</th>\n",
       "      <td>JURISDICTION NAME</td>\n",
       "      <td>COUNT PARTICIPANTS</td>\n",
       "      <td>COUNT FEMALE</td>\n",
       "      <td>PERCENT FEMALE</td>\n",
       "      <td>COUNT MALE</td>\n",
       "      <td>PERCENT MALE</td>\n",
       "      <td>COUNT GENDER UNKNOWN</td>\n",
       "      <td>PERCENT GENDER UNKNOWN</td>\n",
       "      <td>COUNT GENDER TOTAL</td>\n",
       "      <td>PERCENT GENDER TOTAL</td>\n",
       "      <td>...</td>\n",
       "      <td>COUNT CITIZEN STATUS TOTAL</td>\n",
       "      <td>PERCENT CITIZEN STATUS TOTAL</td>\n",
       "      <td>COUNT RECEIVES PUBLIC ASSISTANCE</td>\n",
       "      <td>PERCENT RECEIVES PUBLIC ASSISTANCE</td>\n",
       "      <td>COUNT NRECEIVES PUBLIC ASSISTANCE</td>\n",
       "      <td>PERCENT NRECEIVES PUBLIC ASSISTANCE</td>\n",
       "      <td>COUNT PUBLIC ASSISTANCE UNKNOWN</td>\n",
       "      <td>PERCENT PUBLIC ASSISTANCE UNKNOWN</td>\n",
       "      <td>COUNT PUBLIC ASSISTANCE TOTAL</td>\n",
       "      <td>PERCENT PUBLIC ASSISTANCE TOTAL</td>\n",
       "    </tr>\n",
       "    <tr>\n",
       "      <th>1</th>\n",
       "      <td>10001</td>\n",
       "      <td>44</td>\n",
       "      <td>22</td>\n",
       "      <td>0.5</td>\n",
       "      <td>22</td>\n",
       "      <td>0.5</td>\n",
       "      <td>0</td>\n",
       "      <td>0</td>\n",
       "      <td>44</td>\n",
       "      <td>100</td>\n",
       "      <td>...</td>\n",
       "      <td>44</td>\n",
       "      <td>100</td>\n",
       "      <td>20</td>\n",
       "      <td>0.45</td>\n",
       "      <td>24</td>\n",
       "      <td>0.55</td>\n",
       "      <td>0</td>\n",
       "      <td>0</td>\n",
       "      <td>44</td>\n",
       "      <td>100</td>\n",
       "    </tr>\n",
       "    <tr>\n",
       "      <th>2</th>\n",
       "      <td>10002</td>\n",
       "      <td>35</td>\n",
       "      <td>19</td>\n",
       "      <td>0.54</td>\n",
       "      <td>16</td>\n",
       "      <td>0.46</td>\n",
       "      <td>0</td>\n",
       "      <td>0</td>\n",
       "      <td>35</td>\n",
       "      <td>100</td>\n",
       "      <td>...</td>\n",
       "      <td>35</td>\n",
       "      <td>100</td>\n",
       "      <td>2</td>\n",
       "      <td>0.06</td>\n",
       "      <td>33</td>\n",
       "      <td>0.94</td>\n",
       "      <td>0</td>\n",
       "      <td>0</td>\n",
       "      <td>35</td>\n",
       "      <td>100</td>\n",
       "    </tr>\n",
       "    <tr>\n",
       "      <th>3</th>\n",
       "      <td>10003</td>\n",
       "      <td>1</td>\n",
       "      <td>1</td>\n",
       "      <td>1</td>\n",
       "      <td>0</td>\n",
       "      <td>0</td>\n",
       "      <td>0</td>\n",
       "      <td>0</td>\n",
       "      <td>1</td>\n",
       "      <td>100</td>\n",
       "      <td>...</td>\n",
       "      <td>1</td>\n",
       "      <td>100</td>\n",
       "      <td>0</td>\n",
       "      <td>0</td>\n",
       "      <td>1</td>\n",
       "      <td>1</td>\n",
       "      <td>0</td>\n",
       "      <td>0</td>\n",
       "      <td>1</td>\n",
       "      <td>100</td>\n",
       "    </tr>\n",
       "    <tr>\n",
       "      <th>4</th>\n",
       "      <td>10004</td>\n",
       "      <td>0</td>\n",
       "      <td>0</td>\n",
       "      <td>0</td>\n",
       "      <td>0</td>\n",
       "      <td>0</td>\n",
       "      <td>0</td>\n",
       "      <td>0</td>\n",
       "      <td>0</td>\n",
       "      <td>0</td>\n",
       "      <td>...</td>\n",
       "      <td>0</td>\n",
       "      <td>0</td>\n",
       "      <td>0</td>\n",
       "      <td>0</td>\n",
       "      <td>0</td>\n",
       "      <td>0</td>\n",
       "      <td>0</td>\n",
       "      <td>0</td>\n",
       "      <td>0</td>\n",
       "      <td>0</td>\n",
       "    </tr>\n",
       "  </tbody>\n",
       "</table>\n",
       "<p>5 rows × 46 columns</p>\n",
       "</div>"
      ],
      "text/plain": [
       "                  0                   1             2               3   \\\n",
       "0  JURISDICTION NAME  COUNT PARTICIPANTS  COUNT FEMALE  PERCENT FEMALE   \n",
       "1              10001                  44            22             0.5   \n",
       "2              10002                  35            19            0.54   \n",
       "3              10003                   1             1               1   \n",
       "4              10004                   0             0               0   \n",
       "\n",
       "           4             5                     6                       7   \\\n",
       "0  COUNT MALE  PERCENT MALE  COUNT GENDER UNKNOWN  PERCENT GENDER UNKNOWN   \n",
       "1          22           0.5                     0                       0   \n",
       "2          16          0.46                     0                       0   \n",
       "3           0             0                     0                       0   \n",
       "4           0             0                     0                       0   \n",
       "\n",
       "                   8                     9   ...                          36  \\\n",
       "0  COUNT GENDER TOTAL  PERCENT GENDER TOTAL  ...  COUNT CITIZEN STATUS TOTAL   \n",
       "1                  44                   100  ...                          44   \n",
       "2                  35                   100  ...                          35   \n",
       "3                   1                   100  ...                           1   \n",
       "4                   0                     0  ...                           0   \n",
       "\n",
       "                             37                                38  \\\n",
       "0  PERCENT CITIZEN STATUS TOTAL  COUNT RECEIVES PUBLIC ASSISTANCE   \n",
       "1                           100                                20   \n",
       "2                           100                                 2   \n",
       "3                           100                                 0   \n",
       "4                             0                                 0   \n",
       "\n",
       "                                   39                                 40  \\\n",
       "0  PERCENT RECEIVES PUBLIC ASSISTANCE  COUNT NRECEIVES PUBLIC ASSISTANCE   \n",
       "1                                0.45                                 24   \n",
       "2                                0.06                                 33   \n",
       "3                                   0                                  1   \n",
       "4                                   0                                  0   \n",
       "\n",
       "                                    41                               42  \\\n",
       "0  PERCENT NRECEIVES PUBLIC ASSISTANCE  COUNT PUBLIC ASSISTANCE UNKNOWN   \n",
       "1                                 0.55                                0   \n",
       "2                                 0.94                                0   \n",
       "3                                    1                                0   \n",
       "4                                    0                                0   \n",
       "\n",
       "                                  43                             44  \\\n",
       "0  PERCENT PUBLIC ASSISTANCE UNKNOWN  COUNT PUBLIC ASSISTANCE TOTAL   \n",
       "1                                  0                             44   \n",
       "2                                  0                             35   \n",
       "3                                  0                              1   \n",
       "4                                  0                              0   \n",
       "\n",
       "                                45  \n",
       "0  PERCENT PUBLIC ASSISTANCE TOTAL  \n",
       "1                              100  \n",
       "2                              100  \n",
       "3                              100  \n",
       "4                                0  \n",
       "\n",
       "[5 rows x 46 columns]"
      ]
     },
     "execution_count": 13,
     "metadata": {},
     "output_type": "execute_result"
    }
   ],
   "source": [
    "import pandas as pd\n",
    "demog = pd.read_csv('Demographic_Statistics_By_Zip_Code.csv', header=None)\n",
    "demog.head()"
   ]
  }
 ],
 "metadata": {
  "kernelspec": {
   "display_name": "Python 3",
   "language": "python",
   "name": "python3"
  },
  "language_info": {
   "codemirror_mode": {
    "name": "ipython",
    "version": 2
   },
   "file_extension": ".py",
   "mimetype": "text/x-python",
   "name": "python",
   "nbconvert_exporter": "python",
   "pygments_lexer": "ipython2",
   "version": "2.7.15rc1"
  }
 },
 "nbformat": 4,
 "nbformat_minor": 2
}
