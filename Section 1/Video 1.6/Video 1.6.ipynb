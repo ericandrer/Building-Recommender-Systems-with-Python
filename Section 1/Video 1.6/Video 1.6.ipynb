{
 "cells": [
  {
   "cell_type": "code",
   "execution_count": 9,
   "metadata": {},
   "outputs": [
    {
     "name": "stdout",
     "output_type": "stream",
     "text": [
      "          a         b         c         d         e\n",
      "0 -0.420999  1.034730  0.927523  0.189643  1.763794\n",
      "1  0.228856  0.116274  0.921083  0.657888 -0.712823\n",
      "2       NaN       NaN       NaN       NaN       NaN\n",
      "3  1.890906  0.123924  1.695071  0.993237 -0.818827\n",
      "4       NaN       NaN       NaN       NaN       NaN\n",
      "5  0.102090  0.509491  0.548053 -1.776596 -0.458778\n",
      "6  1.397954  0.094495 -1.572309  1.099998  0.936477\n",
      "7       NaN       NaN       NaN       NaN       NaN\n",
      "8  0.148169  0.505142 -1.029470  0.170398  0.837780\n",
      "9 -0.817624  0.693315 -0.434510 -1.130629 -2.220099\n"
     ]
    }
   ],
   "source": [
    "import pandas as pd\n",
    "import numpy as np\n",
    "\n",
    "df = pd.DataFrame(np.random.randn(7, 5), index=['0','1', '3', '5', '6',\n",
    "'8','9'],columns=['a', 'b', 'c', 'd', 'e'])\n",
    "\n",
    "df = df.reindex(['0','1', '2', '3', '4', '5', '6', '7', '8','9'])\n",
    "\n",
    "print df"
   ]
  },
  {
   "cell_type": "code",
   "execution_count": 10,
   "metadata": {},
   "outputs": [
    {
     "name": "stdout",
     "output_type": "stream",
     "text": [
      "          a         b         c         d         e\n",
      "0 -0.420999  1.034730  0.927523  0.189643  1.763794\n",
      "1  0.228856  0.116274  0.921083  0.657888 -0.712823\n",
      "3  1.890906  0.123924  1.695071  0.993237 -0.818827\n",
      "5  0.102090  0.509491  0.548053 -1.776596 -0.458778\n",
      "6  1.397954  0.094495 -1.572309  1.099998  0.936477\n",
      "8  0.148169  0.505142 -1.029470  0.170398  0.837780\n",
      "9 -0.817624  0.693315 -0.434510 -1.130629 -2.220099\n"
     ]
    }
   ],
   "source": [
    "print df.dropna()"
   ]
  },
  {
   "cell_type": "code",
   "execution_count": 5,
   "metadata": {},
   "outputs": [
    {
     "name": "stdout",
     "output_type": "stream",
     "text": [
      "0     True\n",
      "1     True\n",
      "2    False\n",
      "3     True\n",
      "4    False\n",
      "5     True\n",
      "6     True\n",
      "7    False\n",
      "8     True\n",
      "9     True\n",
      "Name: b, dtype: bool\n"
     ]
    }
   ],
   "source": [
    "print df['b'].notnull()"
   ]
  },
  {
   "cell_type": "code",
   "execution_count": 4,
   "metadata": {},
   "outputs": [
    {
     "name": "stdout",
     "output_type": "stream",
     "text": [
      "0    False\n",
      "1    False\n",
      "2     True\n",
      "3    False\n",
      "4     True\n",
      "5    False\n",
      "6    False\n",
      "7     True\n",
      "8    False\n",
      "9    False\n",
      "Name: a, dtype: bool\n"
     ]
    }
   ],
   "source": [
    "print df['a'].isnull()"
   ]
  },
  {
   "cell_type": "code",
   "execution_count": 6,
   "metadata": {},
   "outputs": [
    {
     "name": "stdout",
     "output_type": "stream",
     "text": [
      "5.665758300694196\n"
     ]
    }
   ],
   "source": [
    "print df['c'].sum()"
   ]
  },
  {
   "cell_type": "code",
   "execution_count": 7,
   "metadata": {
    "scrolled": true
   },
   "outputs": [
    {
     "name": "stdout",
     "output_type": "stream",
     "text": [
      "          a         b         c         d         e\n",
      "0 -0.932960 -0.225423  2.766258  0.531339  2.417555\n",
      "1 -1.905968 -0.815707  1.636532  0.357515 -0.398482\n",
      "2  0.000000  0.000000  0.000000  0.000000  0.000000\n",
      "3 -1.262918  0.980021  0.012171 -1.859090 -0.318767\n",
      "4  0.000000  0.000000  0.000000  0.000000  0.000000\n",
      "5  1.794167  1.375889 -0.775937 -0.701149  0.607157\n",
      "6 -0.811578  0.603710 -0.330979 -1.050737  0.342397\n",
      "7  0.000000  0.000000  0.000000  0.000000  0.000000\n",
      "8 -1.027586  1.065764  0.185077  0.302019 -0.282759\n",
      "9 -0.437933 -0.057656  2.172637  0.189176  0.357162\n"
     ]
    }
   ],
   "source": [
    "print df.fillna(0)"
   ]
  },
  {
   "cell_type": "code",
   "execution_count": 8,
   "metadata": {},
   "outputs": [
    {
     "name": "stdout",
     "output_type": "stream",
     "text": [
      "          a         b         c         d         e\n",
      "0 -0.932960 -0.225423  2.766258  0.531339  2.417555\n",
      "1 -1.905968 -0.815707  1.636532  0.357515 -0.398482\n",
      "2 -1.905968 -0.815707  1.636532  0.357515 -0.398482\n",
      "3 -1.262918  0.980021  0.012171 -1.859090 -0.318767\n",
      "4 -1.262918  0.980021  0.012171 -1.859090 -0.318767\n",
      "5  1.794167  1.375889 -0.775937 -0.701149  0.607157\n",
      "6 -0.811578  0.603710 -0.330979 -1.050737  0.342397\n",
      "7 -0.811578  0.603710 -0.330979 -1.050737  0.342397\n",
      "8 -1.027586  1.065764  0.185077  0.302019 -0.282759\n",
      "9 -0.437933 -0.057656  2.172637  0.189176  0.357162\n"
     ]
    }
   ],
   "source": [
    "print df.fillna(method='pad')"
   ]
  }
 ],
 "metadata": {
  "kernelspec": {
   "display_name": "Python 3",
   "language": "python",
   "name": "python3"
  },
  "language_info": {
   "codemirror_mode": {
    "name": "ipython",
    "version": 2
   },
   "file_extension": ".py",
   "mimetype": "text/x-python",
   "name": "python",
   "nbconvert_exporter": "python",
   "pygments_lexer": "ipython2",
   "version": "2.7.15rc1"
  }
 },
 "nbformat": 4,
 "nbformat_minor": 2
}
