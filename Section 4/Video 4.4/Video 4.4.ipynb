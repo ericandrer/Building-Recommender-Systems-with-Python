{
 "cells": [
  {
   "cell_type": "code",
   "execution_count": 1,
   "metadata": {
    "pycharm": {
     "is_executing": false
    }
   },
   "outputs": [],
   "source": [
    "import pandas as pd"
   ]
  },
  {
   "cell_type": "code",
   "execution_count": 2,
   "metadata": {
    "pycharm": {
     "is_executing": false
    }
   },
   "outputs": [],
   "source": [
    "cosine_sim = pd.read_csv('cosine_sim.csv')"
   ]
  },
  {
   "cell_type": "code",
   "execution_count": 3,
   "metadata": {
    "pycharm": {
     "is_executing": false
    }
   },
   "outputs": [],
   "source": [
    "cosine_sim_map = pd.read_csv('cosine_sim_map.csv', header=None)\n",
    "cosine_sim_map = cosine_sim_map.set_index(0)\n",
    "cosine_sim_map = cosine_sim_map[1]"
   ]
  },
  {
   "cell_type": "code",
   "execution_count": 4,
   "metadata": {
    "pycharm": {
     "is_executing": false
    }
   },
   "outputs": [
    {
     "data": {
      "text/plain": [
       "<surprise.prediction_algorithms.matrix_factorization.SVD at 0x7f162979b5c0>"
      ]
     },
     "execution_count": 4,
     "metadata": {},
     "output_type": "execute_result"
    }
   ],
   "source": [
    "from surprise import SVD, Reader, Dataset\n",
    "\n",
    "reader = Reader()\n",
    "ratings = pd.read_csv('ratings_small.csv')\n",
    "data = Dataset.load_from_df(ratings[['userId', 'movieId', 'rating']], reader)\n",
    "data.split(n_folds=5)\n",
    "svd = SVD()\n",
    "train_set = data.build_full_trainset()\n",
    "svd.fit(train_set)"
   ]
  },
  {
   "cell_type": "code",
   "execution_count": 5,
   "metadata": {
    "pycharm": {
     "is_executing": false
    }
   },
   "outputs": [],
   "source": [
    "id_map = pd.read_csv('movie_ids.csv')\n",
    "id_to_title = id_map.set_index('id')\n",
    "title_to_id = id_map.set_index('title')"
   ]
  },
  {
   "cell_type": "code",
   "execution_count": 6,
   "metadata": {
    "pycharm": {
     "is_executing": false
    }
   },
   "outputs": [],
   "source": [
    "smd = pd.read_csv('metadata_small.csv')"
   ]
  },
  {
   "cell_type": "code",
   "execution_count": 7,
   "metadata": {
    "pycharm": {
     "is_executing": false
    }
   },
   "outputs": [],
   "source": [
    "def hybrid(user_id, title):\n",
    "    idx = cosine_sim_map[title]    \n",
    "    sim_scores = list(enumerate(cosine_sim[str(int(idx))]))    \n",
    "    sim_scores = sorted(sim_scores, key=lambda x: x[1], reverse=True)    \n",
    "    sim_scores = sim_scores[1:26]    \n",
    "    movie_indices = [i[0] for i in sim_scores]\n",
    "    movies = smd.iloc[movie_indices][['title', 'vote_count', 'vote_average', 'year', 'id']]    \n",
    "    movies['est'] = movies['id'].apply(lambda x: svd.predict(user_id, id_to_title.loc[x]['movieId']).est)    \n",
    "    movies = movies.sort_values('est', ascending=False)    \n",
    "    return movies.head(10)"
   ]
  },
  {
   "cell_type": "code",
   "execution_count": 8,
   "metadata": {
    "pycharm": {
     "is_executing": false
    }
   },
   "outputs": [
    {
     "data": {
      "text/html": [
       "<div>\n",
       "<style scoped>\n",
       "    .dataframe tbody tr th:only-of-type {\n",
       "        vertical-align: middle;\n",
       "    }\n",
       "\n",
       "    .dataframe tbody tr th {\n",
       "        vertical-align: top;\n",
       "    }\n",
       "\n",
       "    .dataframe thead th {\n",
       "        text-align: right;\n",
       "    }\n",
       "</style>\n",
       "<table border=\"1\" class=\"dataframe\">\n",
       "  <thead>\n",
       "    <tr style=\"text-align: right;\">\n",
       "      <th></th>\n",
       "      <th>title</th>\n",
       "      <th>vote_count</th>\n",
       "      <th>vote_average</th>\n",
       "      <th>year</th>\n",
       "      <th>id</th>\n",
       "      <th>est</th>\n",
       "    </tr>\n",
       "  </thead>\n",
       "  <tbody>\n",
       "    <tr>\n",
       "      <th>4173</th>\n",
       "      <td>Minority Report</td>\n",
       "      <td>2663.0</td>\n",
       "      <td>7.1</td>\n",
       "      <td>2002</td>\n",
       "      <td>180</td>\n",
       "      <td>3.151891</td>\n",
       "    </tr>\n",
       "    <tr>\n",
       "      <th>7502</th>\n",
       "      <td>The Book of Eli</td>\n",
       "      <td>2207.0</td>\n",
       "      <td>6.6</td>\n",
       "      <td>2010</td>\n",
       "      <td>20504</td>\n",
       "      <td>2.878143</td>\n",
       "    </tr>\n",
       "    <tr>\n",
       "      <th>7208</th>\n",
       "      <td>Replicant</td>\n",
       "      <td>93.0</td>\n",
       "      <td>5.0</td>\n",
       "      <td>2001</td>\n",
       "      <td>10596</td>\n",
       "      <td>2.798160</td>\n",
       "    </tr>\n",
       "    <tr>\n",
       "      <th>6640</th>\n",
       "      <td>Déjà Vu</td>\n",
       "      <td>1519.0</td>\n",
       "      <td>6.6</td>\n",
       "      <td>2006</td>\n",
       "      <td>7551</td>\n",
       "      <td>2.771986</td>\n",
       "    </tr>\n",
       "    <tr>\n",
       "      <th>5580</th>\n",
       "      <td>The Three Lives of Thomasina</td>\n",
       "      <td>12.0</td>\n",
       "      <td>6.8</td>\n",
       "      <td>1963</td>\n",
       "      <td>15081</td>\n",
       "      <td>2.768020</td>\n",
       "    </tr>\n",
       "    <tr>\n",
       "      <th>7948</th>\n",
       "      <td>Stake Land</td>\n",
       "      <td>290.0</td>\n",
       "      <td>6.2</td>\n",
       "      <td>2010</td>\n",
       "      <td>52015</td>\n",
       "      <td>2.745156</td>\n",
       "    </tr>\n",
       "    <tr>\n",
       "      <th>8207</th>\n",
       "      <td>Looper</td>\n",
       "      <td>4777.0</td>\n",
       "      <td>6.6</td>\n",
       "      <td>2012</td>\n",
       "      <td>59967</td>\n",
       "      <td>2.742064</td>\n",
       "    </tr>\n",
       "    <tr>\n",
       "      <th>7901</th>\n",
       "      <td>Super 8</td>\n",
       "      <td>2496.0</td>\n",
       "      <td>6.6</td>\n",
       "      <td>2011</td>\n",
       "      <td>37686</td>\n",
       "      <td>2.737897</td>\n",
       "    </tr>\n",
       "    <tr>\n",
       "      <th>7828</th>\n",
       "      <td>I Am Number Four</td>\n",
       "      <td>1606.0</td>\n",
       "      <td>5.9</td>\n",
       "      <td>2011</td>\n",
       "      <td>46529</td>\n",
       "      <td>2.663714</td>\n",
       "    </tr>\n",
       "    <tr>\n",
       "      <th>5924</th>\n",
       "      <td>Fortress</td>\n",
       "      <td>171.0</td>\n",
       "      <td>5.7</td>\n",
       "      <td>1992</td>\n",
       "      <td>12088</td>\n",
       "      <td>2.649633</td>\n",
       "    </tr>\n",
       "  </tbody>\n",
       "</table>\n",
       "</div>"
      ],
      "text/plain": [
       "                             title  vote_count  vote_average  year     id  \\\n",
       "4173               Minority Report      2663.0           7.1  2002    180   \n",
       "7502               The Book of Eli      2207.0           6.6  2010  20504   \n",
       "7208                     Replicant        93.0           5.0  2001  10596   \n",
       "6640                       Déjà Vu      1519.0           6.6  2006   7551   \n",
       "5580  The Three Lives of Thomasina        12.0           6.8  1963  15081   \n",
       "7948                    Stake Land       290.0           6.2  2010  52015   \n",
       "8207                        Looper      4777.0           6.6  2012  59967   \n",
       "7901                       Super 8      2496.0           6.6  2011  37686   \n",
       "7828              I Am Number Four      1606.0           5.9  2011  46529   \n",
       "5924                      Fortress       171.0           5.7  1992  12088   \n",
       "\n",
       "           est  \n",
       "4173  3.151891  \n",
       "7502  2.878143  \n",
       "7208  2.798160  \n",
       "6640  2.771986  \n",
       "5580  2.768020  \n",
       "7948  2.745156  \n",
       "8207  2.742064  \n",
       "7901  2.737897  \n",
       "7828  2.663714  \n",
       "5924  2.649633  "
      ]
     },
     "execution_count": 8,
     "metadata": {},
     "output_type": "execute_result"
    }
   ],
   "source": [
    "hybrid(1, 'Inception')"
   ]
  },
  {
   "cell_type": "code",
   "execution_count": 9,
   "metadata": {},
   "outputs": [
    {
     "data": {
      "text/html": [
       "<div>\n",
       "<style scoped>\n",
       "    .dataframe tbody tr th:only-of-type {\n",
       "        vertical-align: middle;\n",
       "    }\n",
       "\n",
       "    .dataframe tbody tr th {\n",
       "        vertical-align: top;\n",
       "    }\n",
       "\n",
       "    .dataframe thead th {\n",
       "        text-align: right;\n",
       "    }\n",
       "</style>\n",
       "<table border=\"1\" class=\"dataframe\">\n",
       "  <thead>\n",
       "    <tr style=\"text-align: right;\">\n",
       "      <th></th>\n",
       "      <th>title</th>\n",
       "      <th>vote_count</th>\n",
       "      <th>vote_average</th>\n",
       "      <th>year</th>\n",
       "      <th>id</th>\n",
       "      <th>est</th>\n",
       "    </tr>\n",
       "  </thead>\n",
       "  <tbody>\n",
       "    <tr>\n",
       "      <th>7502</th>\n",
       "      <td>The Book of Eli</td>\n",
       "      <td>2207.0</td>\n",
       "      <td>6.6</td>\n",
       "      <td>2010</td>\n",
       "      <td>20504</td>\n",
       "      <td>3.794988</td>\n",
       "    </tr>\n",
       "    <tr>\n",
       "      <th>7208</th>\n",
       "      <td>Replicant</td>\n",
       "      <td>93.0</td>\n",
       "      <td>5.0</td>\n",
       "      <td>2001</td>\n",
       "      <td>10596</td>\n",
       "      <td>3.577295</td>\n",
       "    </tr>\n",
       "    <tr>\n",
       "      <th>6640</th>\n",
       "      <td>Déjà Vu</td>\n",
       "      <td>1519.0</td>\n",
       "      <td>6.6</td>\n",
       "      <td>2006</td>\n",
       "      <td>7551</td>\n",
       "      <td>3.540964</td>\n",
       "    </tr>\n",
       "    <tr>\n",
       "      <th>5296</th>\n",
       "      <td>Zardoz</td>\n",
       "      <td>106.0</td>\n",
       "      <td>5.8</td>\n",
       "      <td>1974</td>\n",
       "      <td>4923</td>\n",
       "      <td>3.538541</td>\n",
       "    </tr>\n",
       "    <tr>\n",
       "      <th>4173</th>\n",
       "      <td>Minority Report</td>\n",
       "      <td>2663.0</td>\n",
       "      <td>7.1</td>\n",
       "      <td>2002</td>\n",
       "      <td>180</td>\n",
       "      <td>3.521445</td>\n",
       "    </tr>\n",
       "    <tr>\n",
       "      <th>7901</th>\n",
       "      <td>Super 8</td>\n",
       "      <td>2496.0</td>\n",
       "      <td>6.6</td>\n",
       "      <td>2011</td>\n",
       "      <td>37686</td>\n",
       "      <td>3.504900</td>\n",
       "    </tr>\n",
       "    <tr>\n",
       "      <th>5580</th>\n",
       "      <td>The Three Lives of Thomasina</td>\n",
       "      <td>12.0</td>\n",
       "      <td>6.8</td>\n",
       "      <td>1963</td>\n",
       "      <td>15081</td>\n",
       "      <td>3.494643</td>\n",
       "    </tr>\n",
       "    <tr>\n",
       "      <th>7828</th>\n",
       "      <td>I Am Number Four</td>\n",
       "      <td>1606.0</td>\n",
       "      <td>5.9</td>\n",
       "      <td>2011</td>\n",
       "      <td>46529</td>\n",
       "      <td>3.486698</td>\n",
       "    </tr>\n",
       "    <tr>\n",
       "      <th>4596</th>\n",
       "      <td>The Core</td>\n",
       "      <td>531.0</td>\n",
       "      <td>5.5</td>\n",
       "      <td>2003</td>\n",
       "      <td>9341</td>\n",
       "      <td>3.457770</td>\n",
       "    </tr>\n",
       "    <tr>\n",
       "      <th>7948</th>\n",
       "      <td>Stake Land</td>\n",
       "      <td>290.0</td>\n",
       "      <td>6.2</td>\n",
       "      <td>2010</td>\n",
       "      <td>52015</td>\n",
       "      <td>3.449517</td>\n",
       "    </tr>\n",
       "  </tbody>\n",
       "</table>\n",
       "</div>"
      ],
      "text/plain": [
       "                             title  vote_count  vote_average  year     id  \\\n",
       "7502               The Book of Eli      2207.0           6.6  2010  20504   \n",
       "7208                     Replicant        93.0           5.0  2001  10596   \n",
       "6640                       Déjà Vu      1519.0           6.6  2006   7551   \n",
       "5296                        Zardoz       106.0           5.8  1974   4923   \n",
       "4173               Minority Report      2663.0           7.1  2002    180   \n",
       "7901                       Super 8      2496.0           6.6  2011  37686   \n",
       "5580  The Three Lives of Thomasina        12.0           6.8  1963  15081   \n",
       "7828              I Am Number Four      1606.0           5.9  2011  46529   \n",
       "4596                      The Core       531.0           5.5  2003   9341   \n",
       "7948                    Stake Land       290.0           6.2  2010  52015   \n",
       "\n",
       "           est  \n",
       "7502  3.794988  \n",
       "7208  3.577295  \n",
       "6640  3.540964  \n",
       "5296  3.538541  \n",
       "4173  3.521445  \n",
       "7901  3.504900  \n",
       "5580  3.494643  \n",
       "7828  3.486698  \n",
       "4596  3.457770  \n",
       "7948  3.449517  "
      ]
     },
     "execution_count": 9,
     "metadata": {},
     "output_type": "execute_result"
    }
   ],
   "source": [
    "hybrid(2, 'Inception')"
   ]
  }
 ],
 "metadata": {
  "kernelspec": {
   "display_name": "PyCharm (untitled)",
   "language": "python",
   "name": "pycharm-99fb8c1c"
  },
  "language_info": {
   "codemirror_mode": {
    "name": "ipython",
    "version": 3
   },
   "file_extension": ".py",
   "mimetype": "text/x-python",
   "name": "python",
   "nbconvert_exporter": "python",
   "pygments_lexer": "ipython3",
   "version": "3.6.7"
  },
  "pycharm": {
   "stem_cell": {
    "cell_type": "raw",
    "metadata": {
     "collapsed": false
    },
    "source": []
   }
  }
 },
 "nbformat": 4,
 "nbformat_minor": 2
}
